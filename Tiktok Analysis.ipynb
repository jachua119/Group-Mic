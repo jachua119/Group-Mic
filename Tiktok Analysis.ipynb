{
 "cells": [
  {
   "cell_type": "code",
   "execution_count": 1,
   "id": "45266cf0",
   "metadata": {},
   "outputs": [],
   "source": [
    "import pandas as pd\n",
    "import numpy as np\n",
    "\n",
    "import seaborn as sns\n",
    "import matplotlib.pyplot as plt\n",
    "%matplotlib inline"
   ]
  },
  {
   "cell_type": "code",
   "execution_count": 4,
   "id": "b5959a12",
   "metadata": {},
   "outputs": [
    {
     "data": {
      "text/html": [
       "<div>\n",
       "<style scoped>\n",
       "    .dataframe tbody tr th:only-of-type {\n",
       "        vertical-align: middle;\n",
       "    }\n",
       "\n",
       "    .dataframe tbody tr th {\n",
       "        vertical-align: top;\n",
       "    }\n",
       "\n",
       "    .dataframe thead th {\n",
       "        text-align: right;\n",
       "    }\n",
       "</style>\n",
       "<table border=\"1\" class=\"dataframe\">\n",
       "  <thead>\n",
       "    <tr style=\"text-align: right;\">\n",
       "      <th></th>\n",
       "      <th>track_id</th>\n",
       "      <th>track_name</th>\n",
       "      <th>artist_id</th>\n",
       "      <th>artist_name</th>\n",
       "      <th>album_id</th>\n",
       "      <th>duration</th>\n",
       "      <th>release_date</th>\n",
       "      <th>popularity</th>\n",
       "      <th>danceability</th>\n",
       "      <th>energy</th>\n",
       "      <th>key</th>\n",
       "      <th>loudness</th>\n",
       "      <th>mode</th>\n",
       "      <th>speechiness</th>\n",
       "      <th>acousticness</th>\n",
       "      <th>instrumentalness</th>\n",
       "      <th>liveness</th>\n",
       "      <th>valence</th>\n",
       "      <th>tempo</th>\n",
       "    </tr>\n",
       "  </thead>\n",
       "  <tbody>\n",
       "    <tr>\n",
       "      <th>0</th>\n",
       "      <td>1dcNEEtODRVZEevQ20Cgmy</td>\n",
       "      <td>Nangangamba</td>\n",
       "      <td>67IN4cLJ7798gUapyZlmac</td>\n",
       "      <td>Zack Tabudlo</td>\n",
       "      <td>4kHntHygZZcKMRXGE2k1Fw</td>\n",
       "      <td>210354</td>\n",
       "      <td>2020-08-07</td>\n",
       "      <td>70</td>\n",
       "      <td>0.620</td>\n",
       "      <td>0.547</td>\n",
       "      <td>1.0</td>\n",
       "      <td>-6.772</td>\n",
       "      <td>1.0</td>\n",
       "      <td>0.0248</td>\n",
       "      <td>0.1120</td>\n",
       "      <td>0.000000</td>\n",
       "      <td>0.1900</td>\n",
       "      <td>0.2080</td>\n",
       "      <td>98.032</td>\n",
       "    </tr>\n",
       "    <tr>\n",
       "      <th>1</th>\n",
       "      <td>2X5AFygz5SDYlXagyPw8kX</td>\n",
       "      <td>Binibini</td>\n",
       "      <td>67IN4cLJ7798gUapyZlmac</td>\n",
       "      <td>Zack Tabudlo</td>\n",
       "      <td>0oJLtle44OSumLZj1WDEf0</td>\n",
       "      <td>221538</td>\n",
       "      <td>2021-03-26</td>\n",
       "      <td>67</td>\n",
       "      <td>0.642</td>\n",
       "      <td>0.374</td>\n",
       "      <td>5.0</td>\n",
       "      <td>-10.606</td>\n",
       "      <td>1.0</td>\n",
       "      <td>0.0320</td>\n",
       "      <td>0.4230</td>\n",
       "      <td>0.000002</td>\n",
       "      <td>0.4350</td>\n",
       "      <td>0.0979</td>\n",
       "      <td>129.863</td>\n",
       "    </tr>\n",
       "    <tr>\n",
       "      <th>2</th>\n",
       "      <td>35unzCfhT0U4gYcCgdf9DX</td>\n",
       "      <td>Sigurado</td>\n",
       "      <td>67IN4cLJ7798gUapyZlmac</td>\n",
       "      <td>Zack Tabudlo</td>\n",
       "      <td>3XogEmDvNKbXTIYkoZgG5V</td>\n",
       "      <td>235471</td>\n",
       "      <td>2020-12-04</td>\n",
       "      <td>55</td>\n",
       "      <td>0.734</td>\n",
       "      <td>0.413</td>\n",
       "      <td>7.0</td>\n",
       "      <td>-8.973</td>\n",
       "      <td>1.0</td>\n",
       "      <td>0.0316</td>\n",
       "      <td>0.0984</td>\n",
       "      <td>0.000000</td>\n",
       "      <td>0.2800</td>\n",
       "      <td>0.6800</td>\n",
       "      <td>105.980</td>\n",
       "    </tr>\n",
       "    <tr>\n",
       "      <th>3</th>\n",
       "      <td>6RUEFRLol05iSCzQaCHNK5</td>\n",
       "      <td>Iyong Iyo</td>\n",
       "      <td>67IN4cLJ7798gUapyZlmac</td>\n",
       "      <td>Zack Tabudlo</td>\n",
       "      <td>6Pa87VouOnvJGvSLYdAevR</td>\n",
       "      <td>202941</td>\n",
       "      <td>2021-02-12</td>\n",
       "      <td>56</td>\n",
       "      <td>0.634</td>\n",
       "      <td>0.340</td>\n",
       "      <td>2.0</td>\n",
       "      <td>-10.694</td>\n",
       "      <td>1.0</td>\n",
       "      <td>0.0340</td>\n",
       "      <td>0.3540</td>\n",
       "      <td>0.000000</td>\n",
       "      <td>0.0962</td>\n",
       "      <td>0.4130</td>\n",
       "      <td>136.146</td>\n",
       "    </tr>\n",
       "    <tr>\n",
       "      <th>4</th>\n",
       "      <td>6j9kSGlYLZdZ9sZkY9DjzY</td>\n",
       "      <td>Binibini (Last Day On Earth) (feat. James TW)</td>\n",
       "      <td>67IN4cLJ7798gUapyZlmac</td>\n",
       "      <td>Zack Tabudlo</td>\n",
       "      <td>0MsGCH9D7oBrAO9QrwZGXs</td>\n",
       "      <td>219692</td>\n",
       "      <td>2021-06-11</td>\n",
       "      <td>54</td>\n",
       "      <td>0.564</td>\n",
       "      <td>0.391</td>\n",
       "      <td>5.0</td>\n",
       "      <td>-7.655</td>\n",
       "      <td>1.0</td>\n",
       "      <td>0.0311</td>\n",
       "      <td>0.4780</td>\n",
       "      <td>0.000000</td>\n",
       "      <td>0.1270</td>\n",
       "      <td>0.1010</td>\n",
       "      <td>130.030</td>\n",
       "    </tr>\n",
       "  </tbody>\n",
       "</table>\n",
       "</div>"
      ],
      "text/plain": [
       "                 track_id                                     track_name  \\\n",
       "0  1dcNEEtODRVZEevQ20Cgmy                                    Nangangamba   \n",
       "1  2X5AFygz5SDYlXagyPw8kX                                       Binibini   \n",
       "2  35unzCfhT0U4gYcCgdf9DX                                       Sigurado   \n",
       "3  6RUEFRLol05iSCzQaCHNK5                                      Iyong Iyo   \n",
       "4  6j9kSGlYLZdZ9sZkY9DjzY  Binibini (Last Day On Earth) (feat. James TW)   \n",
       "\n",
       "                artist_id   artist_name                album_id  duration  \\\n",
       "0  67IN4cLJ7798gUapyZlmac  Zack Tabudlo  4kHntHygZZcKMRXGE2k1Fw    210354   \n",
       "1  67IN4cLJ7798gUapyZlmac  Zack Tabudlo  0oJLtle44OSumLZj1WDEf0    221538   \n",
       "2  67IN4cLJ7798gUapyZlmac  Zack Tabudlo  3XogEmDvNKbXTIYkoZgG5V    235471   \n",
       "3  67IN4cLJ7798gUapyZlmac  Zack Tabudlo  6Pa87VouOnvJGvSLYdAevR    202941   \n",
       "4  67IN4cLJ7798gUapyZlmac  Zack Tabudlo  0MsGCH9D7oBrAO9QrwZGXs    219692   \n",
       "\n",
       "  release_date  popularity  danceability  energy  key  loudness  mode  \\\n",
       "0   2020-08-07          70         0.620   0.547  1.0    -6.772   1.0   \n",
       "1   2021-03-26          67         0.642   0.374  5.0   -10.606   1.0   \n",
       "2   2020-12-04          55         0.734   0.413  7.0    -8.973   1.0   \n",
       "3   2021-02-12          56         0.634   0.340  2.0   -10.694   1.0   \n",
       "4   2021-06-11          54         0.564   0.391  5.0    -7.655   1.0   \n",
       "\n",
       "   speechiness  acousticness  instrumentalness  liveness  valence    tempo  \n",
       "0       0.0248        0.1120          0.000000    0.1900   0.2080   98.032  \n",
       "1       0.0320        0.4230          0.000002    0.4350   0.0979  129.863  \n",
       "2       0.0316        0.0984          0.000000    0.2800   0.6800  105.980  \n",
       "3       0.0340        0.3540          0.000000    0.0962   0.4130  136.146  \n",
       "4       0.0311        0.4780          0.000000    0.1270   0.1010  130.030  "
      ]
     },
     "execution_count": 4,
     "metadata": {},
     "output_type": "execute_result"
    }
   ],
   "source": [
    "zac_df = pd.read_csv('data/Zack_Tabudlo_playlist_tracks_data.csv')\n",
    "zac_df.head()"
   ]
  },
  {
   "cell_type": "code",
   "execution_count": 7,
   "id": "7a0fc621",
   "metadata": {},
   "outputs": [
    {
     "data": {
      "text/plain": [
       "17"
      ]
     },
     "execution_count": 7,
     "metadata": {},
     "output_type": "execute_result"
    }
   ],
   "source": [
    "zac_df['track_id'].nunique()"
   ]
  },
  {
   "cell_type": "code",
   "execution_count": 8,
   "id": "b1bd83ea",
   "metadata": {},
   "outputs": [],
   "source": [
    "zac_df['duration_mins']=zac_df['duration']/60000"
   ]
  },
  {
   "cell_type": "code",
   "execution_count": 9,
   "id": "7f847997",
   "metadata": {},
   "outputs": [
    {
     "name": "stderr",
     "output_type": "stream",
     "text": [
      "/Users/jachua119/opt/anaconda3/lib/python3.9/site-packages/seaborn/distributions.py:2619: FutureWarning: `distplot` is a deprecated function and will be removed in a future version. Please adapt your code to use either `displot` (a figure-level function with similar flexibility) or `histplot` (an axes-level function for histograms).\n",
      "  warnings.warn(msg, FutureWarning)\n"
     ]
    },
    {
     "data": {
      "image/png": "[encoded data removed]",
      "text/plain": [
       "<Figure size 432x288 with 1 Axes>"
      ]
     },
     "metadata": {
      "needs_background": "light"
     },
     "output_type": "display_data"
    }
   ],
   "source": [
    "sns.distplot(zac_df['duration_mins'])\n",
    "plt.title('Duration in Minutes')\n",
    "plt.ylabel('Frequency')\n",
    "plt.show()"
   ]
  },
  {
   "cell_type": "code",
   "execution_count": 10,
   "id": "1508e151",
   "metadata": {},
   "outputs": [
    {
     "name": "stderr",
     "output_type": "stream",
     "text": [
      "/Users/jachua119/opt/anaconda3/lib/python3.9/site-packages/seaborn/distributions.py:2619: FutureWarning: `distplot` is a deprecated function and will be removed in a future version. Please adapt your code to use either `displot` (a figure-level function with similar flexibility) or `histplot` (an axes-level function for histograms).\n",
      "  warnings.warn(msg, FutureWarning)\n"
     ]
    },
    {
     "data": {
      "image/png": "[encoded data removed]",
      "text/plain": [
       "<Figure size 432x288 with 1 Axes>"
      ]
     },
     "metadata": {
      "needs_background": "light"
     },
     "output_type": "display_data"
    }
   ],
   "source": [
    "sns.distplot(zac_df['energy'])\n",
    "plt.ylabel('Frequency')\n",
    "plt.show()"
   ]
  },
  {
   "cell_type": "code",
   "execution_count": null,
   "id": "566ffa55",
   "metadata": {},
   "outputs": [],
   "source": []
  }
 ],
 "metadata": {
  "kernelspec": {
   "display_name": "Python 3 (ipykernel)",
   "language": "python",
   "name": "python3"
  },
  "language_info": {
   "codemirror_mode": {
    "name": "ipython",
    "version": 3
   },
   "file_extension": ".py",
   "mimetype": "text/x-python",
   "name": "python",
   "nbconvert_exporter": "python",
   "pygments_lexer": "ipython3",
   "version": "3.9.12"
  }
 },
 "nbformat": 4,
 "nbformat_minor": 5
}
